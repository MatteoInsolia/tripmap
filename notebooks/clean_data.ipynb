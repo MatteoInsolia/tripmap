{
 "cells": [
  {
   "cell_type": "code",
   "execution_count": null,
   "metadata": {},
   "outputs": [],
   "source": [
    "import pandas as pd\n",
    "import geopandas as gpd\n",
    "from pathlib import Path\n",
    "import folium"
   ]
  },
  {
   "cell_type": "code",
   "execution_count": null,
   "metadata": {},
   "outputs": [],
   "source": [
    "EXPORT = False"
   ]
  },
  {
   "cell_type": "code",
   "execution_count": null,
   "metadata": {},
   "outputs": [],
   "source": [
    "RAW_DATA_PATH = Path.cwd().parent / \"raw_data\"\n",
    "CLEAN_DATA_PATH = Path.cwd().parent / \"src\" / \"tripmap\""
   ]
  },
  {
   "cell_type": "code",
   "execution_count": null,
   "metadata": {},
   "outputs": [],
   "source": [
    "test_df = pd.read_csv(RAW_DATA_PATH / \"points.csv\")\n",
    "test_df[\"date\"] = pd.to_datetime(test_df[\"date\"], format=\"%d-%m-%Y\")\n",
    "test_df = test_df.set_index(\"date\")\n",
    "\n",
    "trip = gpd.GeoDataFrame(\n",
    "    test_df,\n",
    "    geometry=gpd.points_from_xy(test_df[\"longitude\"], test_df[\"latitude\"]),\n",
    "    crs=\"EPSG:4326\",\n",
    ")\n",
    "\n",
    "display(trip)"
   ]
  },
  {
   "cell_type": "code",
   "execution_count": null,
   "metadata": {},
   "outputs": [],
   "source": [
    "collector = []\n",
    "for date in test_df.index:\n",
    "    file = RAW_DATA_PATH / f\"{date.date()}.gpx\"\n",
    "    if not file.exists():\n",
    "        continue\n",
    "    daily_route = gpd.read_file(file, layer=\"tracks\")\n",
    "    daily_route[\"date\"] = date\n",
    "    daily_route[\"Descrizione\"] = \"Treno\"\n",
    "    daily_route = daily_route[[\"date\", \"geometry\", \"Descrizione\"]].set_index(\"date\")\n",
    "    collector.append(daily_route)\n",
    "\n",
    "all_routes = pd.concat(collector)"
   ]
  },
  {
   "cell_type": "code",
   "execution_count": null,
   "metadata": {},
   "outputs": [],
   "source": [
    "color_palette = [\n",
    "    \"#058240\",\n",
    "    \"#AA1803\",\n",
    "    \"#87C159\",\n",
    "    \"#048399\",\n",
    "    \"#F3C301\",\n",
    "    \"#85c3fe\",\n",
    "]"
   ]
  },
  {
   "cell_type": "code",
   "execution_count": null,
   "metadata": {},
   "outputs": [],
   "source": [
    "trip = gpd.GeoDataFrame(\n",
    "    pd.concat([trip, all_routes]), geometry=\"geometry\", crs=\"EPSG:4326\"\n",
    ").reset_index()\n",
    "trip[\"Giorno\"] = (trip[\"date\"].dt.day - 7).astype(int)\n",
    "trip = trip.set_index(\"date\").sort_index()\n",
    "trip[\"color\"] = [\n",
    "    color_palette[day % len(color_palette)] for day in trip[\"Giorno\"].to_list()\n",
    "]\n",
    "\n",
    "display(trip)"
   ]
  },
  {
   "cell_type": "code",
   "execution_count": null,
   "metadata": {},
   "outputs": [],
   "source": [
    "trip.explore(\n",
    "    color=trip[\"color\"].to_list(),\n",
    "    tiles=\"CartoDB positron\",\n",
    "    tooltip=False,\n",
    "    popup=[\"Giorno\", \"Descrizione\"],\n",
    "    style_kwds=dict(\n",
    "        style_function=lambda x: {\n",
    "            \"html\": f\"\"\"<span   class=\"fa-solid fa-location-dot\" \n",
    "                                style=\"color:{x[\"properties\"][\"color\"]};\n",
    "                                font-size:30px\"></span>\"\"\"\n",
    "        },\n",
    "    ),\n",
    "    marker_type=\"marker\",\n",
    "    marker_kwds=dict(icon=folium.DivIcon()),\n",
    ")"
   ]
  },
  {
   "cell_type": "code",
   "execution_count": null,
   "metadata": {},
   "outputs": [],
   "source": [
    "if EXPORT:\n",
    "    trip[trip[\"latitude\"].isna()].reset_index().to_file(\n",
    "        RAW_DATA_PATH / \"routes.json\", driver=\"GeoJSON\"\n",
    "    )\n",
    "    trip[~trip[\"latitude\"].isna()].reset_index().to_file(\n",
    "        RAW_DATA_PATH / \"points.json\", driver=\"GeoJSON\"\n",
    "    )"
   ]
  },
  {
   "cell_type": "markdown",
   "metadata": {},
   "source": [
    "___"
   ]
  }
 ],
 "metadata": {
  "kernelspec": {
   "display_name": "tripmap",
   "language": "python",
   "name": "python3"
  },
  "language_info": {
   "codemirror_mode": {
    "name": "ipython",
    "version": 3
   },
   "file_extension": ".py",
   "mimetype": "text/x-python",
   "name": "python",
   "nbconvert_exporter": "python",
   "pygments_lexer": "ipython3",
   "version": "3.12.3"
  }
 },
 "nbformat": 4,
 "nbformat_minor": 2
}
