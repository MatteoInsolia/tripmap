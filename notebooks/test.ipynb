{
 "cells": [
  {
   "cell_type": "code",
   "execution_count": null,
   "metadata": {},
   "outputs": [],
   "source": [
    "import pandas as pd\n",
    "import geopandas as gpd"
   ]
  },
  {
   "cell_type": "code",
   "execution_count": null,
   "metadata": {},
   "outputs": [],
   "source": [
    "test_df = pd.DataFrame.from_dict(\n",
    "    {\"Date\": [\"03-03-2025\", \"08-03-2025\", \"28-03-2025\"],\n",
    "     \"Description\":[\"Arrivo di Matteo a Hong Kong\", \"Partenza Da HK per Takamatsu\", \"Partenza da Tokyo per HK\"],\n",
    "    \"Latitude\":[22.30331384402351, 34.34206545290941, 35.69666162802782],\n",
    "    \"Longitude\":[114.16027652699938, 134.04667994580566, 139.77162061039544]\n",
    "    }\n",
    ").set_index(\"Date\")\n",
    "\n",
    "display(test_df)"
   ]
  },
  {
   "cell_type": "code",
   "execution_count": null,
   "metadata": {},
   "outputs": [],
   "source": [
    "test_gdf = gpd.GeoDataFrame(test_df, geometry=gpd.points_from_xy(test_df[\"Longitude\"], test_df[\"Latitude\"]), crs=\"EPSG:4326\")\n",
    "\n",
    "display(test_gdf.explore(tiles=\"CartoDB positron\"))"
   ]
  }
 ],
 "metadata": {
  "kernelspec": {
   "display_name": "tripmap",
   "language": "python",
   "name": "python3"
  },
  "language_info": {
   "codemirror_mode": {
    "name": "ipython",
    "version": 3
   },
   "file_extension": ".py",
   "mimetype": "text/x-python",
   "name": "python",
   "nbconvert_exporter": "python",
   "pygments_lexer": "ipython3",
   "version": "3.12.3"
  }
 },
 "nbformat": 4,
 "nbformat_minor": 2
}
